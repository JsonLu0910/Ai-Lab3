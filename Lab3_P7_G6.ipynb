{
 "cells": [
  {
   "cell_type": "markdown",
   "metadata": {},
   "source": [
    "1 - Prepare data"
   ]
  },
  {
   "cell_type": "code",
   "execution_count": 7,
   "metadata": {},
   "outputs": [],
   "source": [
    "import pandas as pd\n",
    "import numpy as np\n",
    "import datetime as date"
   ]
  },
  {
   "cell_type": "markdown",
   "metadata": {},
   "source": [
    "#Choose the death cases data from hospital.csv from March to August\n",
    "df = pd.read_csv('https://raw.githubusercontent.com/MoH-Malaysia/covid19-public/main/epidemic/cases_malaysia.csv')\n",
    "df['date'] = pd.date_range('2020-02-1', periods=948, freq='D')\n",
    "mask = (df['date'] > '2021-5-31') & (df['date'] <= '2022-1-31')\n",
    "cases_malaysia = df.loc[mask][['date','cases_active','cases_new']]\n",
    "print(cases_malaysia)"
   ]
  },
  {
   "cell_type": "code",
   "execution_count": 20,
   "metadata": {},
   "outputs": [
    {
     "name": "stdout",
     "output_type": "stream",
     "text": [
      "            beds_covid   beds  admitted_total  hosp_covid  hosp_pui\n",
      "date                                                               \n",
      "2021-06-01       10730  38285            1994        7676      1280\n",
      "2021-06-02       10824  38318            1875        7587      1175\n",
      "2021-06-03       10813  38318            1906        7565      1247\n",
      "2021-06-04       10871  38318            1833        7337      1191\n",
      "2021-06-05       10896  38318            1992        7457      1082\n",
      "...                ...    ...             ...         ...       ...\n",
      "2022-01-27        9877  40899             964        2002       888\n",
      "2022-01-28        9794  40827             955        1844       850\n",
      "2022-01-29        9781  40827             890        2036       912\n",
      "2022-01-30        9781  40827             901        2070       927\n",
      "2022-01-31        9723  40837             864        2064       906\n",
      "\n",
      "[245 rows x 5 columns]\n"
     ]
    }
   ],
   "source": [
    "#Choose the death cases data from deaths_malaysia.csv from March to August\n",
    "df = pd.read_csv('https://raw.githubusercontent.com/MoH-Malaysia/covid19-public/main/epidemic/hospital.csv')\n",
    "df  = df.groupby('date').sum()\n",
    "df['date'] = pd.date_range('2020-03-24', periods=890, freq='D')\n",
    "mask = (df['date'] > '2021-5-31') & (df['date'] <= '2022-1-31')\n",
    "cases_malaysia = df.loc[mask][['beds_covid','beds','admitted_total','hosp_covid','hosp_pui']]\n",
    "print(cases_malaysia)"
   ]
  },
  {
   "cell_type": "code",
   "execution_count": 21,
   "metadata": {},
   "outputs": [
    {
     "data": {
      "text/html": [
       "<div>\n",
       "<style scoped>\n",
       "    .dataframe tbody tr th:only-of-type {\n",
       "        vertical-align: middle;\n",
       "    }\n",
       "\n",
       "    .dataframe tbody tr th {\n",
       "        vertical-align: top;\n",
       "    }\n",
       "\n",
       "    .dataframe thead th {\n",
       "        text-align: right;\n",
       "    }\n",
       "</style>\n",
       "<table border=\"1\" class=\"dataframe\">\n",
       "  <thead>\n",
       "    <tr style=\"text-align: right;\">\n",
       "      <th></th>\n",
       "      <th>icu_covid</th>\n",
       "      <th>beds_icu_covid</th>\n",
       "      <th>icu_pui</th>\n",
       "    </tr>\n",
       "    <tr>\n",
       "      <th>date</th>\n",
       "      <th></th>\n",
       "      <th></th>\n",
       "      <th></th>\n",
       "    </tr>\n",
       "  </thead>\n",
       "  <tbody>\n",
       "    <tr>\n",
       "      <th>2021-06-01</th>\n",
       "      <td>1181</td>\n",
       "      <td>1126</td>\n",
       "      <td>9</td>\n",
       "    </tr>\n",
       "    <tr>\n",
       "      <th>2021-06-02</th>\n",
       "      <td>1202</td>\n",
       "      <td>1124</td>\n",
       "      <td>11</td>\n",
       "    </tr>\n",
       "    <tr>\n",
       "      <th>2021-06-03</th>\n",
       "      <td>1176</td>\n",
       "      <td>1124</td>\n",
       "      <td>14</td>\n",
       "    </tr>\n",
       "    <tr>\n",
       "      <th>2021-06-04</th>\n",
       "      <td>1154</td>\n",
       "      <td>1126</td>\n",
       "      <td>11</td>\n",
       "    </tr>\n",
       "    <tr>\n",
       "      <th>2021-06-05</th>\n",
       "      <td>1155</td>\n",
       "      <td>1132</td>\n",
       "      <td>12</td>\n",
       "    </tr>\n",
       "    <tr>\n",
       "      <th>...</th>\n",
       "      <td>...</td>\n",
       "      <td>...</td>\n",
       "      <td>...</td>\n",
       "    </tr>\n",
       "    <tr>\n",
       "      <th>2022-01-27</th>\n",
       "      <td>124</td>\n",
       "      <td>859</td>\n",
       "      <td>0</td>\n",
       "    </tr>\n",
       "    <tr>\n",
       "      <th>2022-01-28</th>\n",
       "      <td>127</td>\n",
       "      <td>859</td>\n",
       "      <td>0</td>\n",
       "    </tr>\n",
       "    <tr>\n",
       "      <th>2022-01-29</th>\n",
       "      <td>119</td>\n",
       "      <td>859</td>\n",
       "      <td>0</td>\n",
       "    </tr>\n",
       "    <tr>\n",
       "      <th>2022-01-30</th>\n",
       "      <td>120</td>\n",
       "      <td>852</td>\n",
       "      <td>0</td>\n",
       "    </tr>\n",
       "    <tr>\n",
       "      <th>2022-01-31</th>\n",
       "      <td>114</td>\n",
       "      <td>852</td>\n",
       "      <td>0</td>\n",
       "    </tr>\n",
       "  </tbody>\n",
       "</table>\n",
       "<p>245 rows × 3 columns</p>\n",
       "</div>"
      ],
      "text/plain": [
       "            icu_covid  beds_icu_covid  icu_pui\n",
       "date                                          \n",
       "2021-06-01       1181            1126        9\n",
       "2021-06-02       1202            1124       11\n",
       "2021-06-03       1176            1124       14\n",
       "2021-06-04       1154            1126       11\n",
       "2021-06-05       1155            1132       12\n",
       "...               ...             ...      ...\n",
       "2022-01-27        124             859        0\n",
       "2022-01-28        127             859        0\n",
       "2022-01-29        119             859        0\n",
       "2022-01-30        120             852        0\n",
       "2022-01-31        114             852        0\n",
       "\n",
       "[245 rows x 3 columns]"
      ]
     },
     "execution_count": 21,
     "metadata": {},
     "output_type": "execute_result"
    }
   ],
   "source": [
    "icu_initial = pd.read_csv('https://raw.githubusercontent.com/MoH-Malaysia/covid19-public/main/epidemic/icu.csv')\n",
    "icu_initial  = icu_initial.groupby('date').sum()\n",
    "icu_initial['date'] = pd.date_range('2020-03-24',periods=890, freq='D')\n",
    "mask = (icu_initial['date'] > '2021-5-31') & (icu_initial['date'] <= '2022-1-31')\n",
    "icu = icu_initial.loc[mask][['icu_covid','beds_icu_covid','icu_pui']]\n",
    "icu"
   ]
  },
  {
   "cell_type": "code",
   "execution_count": 22,
   "metadata": {},
   "outputs": [
    {
     "name": "stdout",
     "output_type": "stream",
     "text": [
      "            beds_covid   beds  admitted_total  hosp_covid  hosp_pui\n",
      "date                                                               \n",
      "2021-06-01       10730  38285            1994        7676      1280\n",
      "2021-06-02       10824  38318            1875        7587      1175\n",
      "2021-06-03       10813  38318            1906        7565      1247\n",
      "2021-06-04       10871  38318            1833        7337      1191\n",
      "2021-06-05       10896  38318            1992        7457      1082\n",
      "...                ...    ...             ...         ...       ...\n",
      "2022-01-27        9877  40899             964        2002       888\n",
      "2022-01-28        9794  40827             955        1844       850\n",
      "2022-01-29        9781  40827             890        2036       912\n",
      "2022-01-30        9781  40827             901        2070       927\n",
      "2022-01-31        9723  40837             864        2064       906\n",
      "\n",
      "[245 rows x 5 columns]\n",
      "            icu_covid  beds_icu_covid  icu_pui\n",
      "date                                          \n",
      "2021-06-01       1181            1126        9\n",
      "2021-06-02       1202            1124       11\n",
      "2021-06-03       1176            1124       14\n",
      "2021-06-04       1154            1126       11\n",
      "2021-06-05       1155            1132       12\n",
      "...               ...             ...      ...\n",
      "2022-01-27        124             859        0\n",
      "2022-01-28        127             859        0\n",
      "2022-01-29        119             859        0\n",
      "2022-01-30        120             852        0\n",
      "2022-01-31        114             852        0\n",
      "\n",
      "[245 rows x 3 columns]\n"
     ]
    }
   ],
   "source": [
    "print(cases_malaysia)\n",
    "print(icu)"
   ]
  },
  {
   "cell_type": "code",
   "execution_count": null,
   "metadata": {},
   "outputs": [],
   "source": []
  }
 ],
 "metadata": {
  "kernelspec": {
   "display_name": "Python 3",
   "language": "python",
   "name": "python3"
  },
  "language_info": {
   "codemirror_mode": {
    "name": "ipython",
    "version": 3
   },
   "file_extension": ".py",
   "mimetype": "text/x-python",
   "name": "python",
   "nbconvert_exporter": "python",
   "pygments_lexer": "ipython3",
   "version": "3.8.8"
  },
  "vscode": {
   "interpreter": {
    "hash": "778b07576156759329e6c2ab8b15109e09277a0c2d6e6b215587d16ac49aceca"
   }
  }
 },
 "nbformat": 4,
 "nbformat_minor": 2
}
